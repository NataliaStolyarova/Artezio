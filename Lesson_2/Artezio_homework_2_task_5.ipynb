{
 "cells": [
  {
   "cell_type": "code",
   "execution_count": null,
   "metadata": {},
   "outputs": [
    {
     "name": "stdout",
     "output_type": "stream",
     "text": [
      "Name: Natalia\n",
      "Password: 123abC\n",
      "Password for user: Natalia is incorrect\n",
      "Please try again...\n",
      "Name: Natalia\n",
      "Password: dnkgjkn\n",
      "Password for user: Natalia is incorrect\n",
      "Please try again...\n"
     ]
    }
   ],
   "source": [
    "while True:\n",
    "    rp = \"123AbC\"\n",
    "    n = input(\"Name: \")\n",
    "    p = input(\"Password: \")\n",
    "    if p == rp:\n",
    "        print(\"Password for user: \" + n + \" is correct\")\n",
    "        break\n",
    "    else:\n",
    "        print(\"Password for user: \" + n + \" is incorrect\")\n",
    "        print(\"Please try again...\")\n",
    "        "
   ]
  }
 ],
 "metadata": {
  "kernelspec": {
   "display_name": "Python 3",
   "language": "python",
   "name": "python3"
  },
  "language_info": {
   "codemirror_mode": {
    "name": "ipython",
    "version": 3
   },
   "file_extension": ".py",
   "mimetype": "text/x-python",
   "name": "python",
   "nbconvert_exporter": "python",
   "pygments_lexer": "ipython3",
   "version": "3.7.4"
  }
 },
 "nbformat": 4,
 "nbformat_minor": 2
}
