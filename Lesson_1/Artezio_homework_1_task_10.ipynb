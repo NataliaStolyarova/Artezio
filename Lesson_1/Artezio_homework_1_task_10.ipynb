{
 "cells": [
  {
   "cell_type": "code",
   "execution_count": 6,
   "metadata": {},
   "outputs": [],
   "source": [
    "A = [\"abc\", \"16\", \"200\", \"7f\", \"difference\"]\n",
    "B = [\"13\", \"cba\", \"abc\", \"200\"]\n",
    "C = []"
   ]
  },
  {
   "cell_type": "code",
   "execution_count": 7,
   "metadata": {},
   "outputs": [
    {
     "name": "stdout",
     "output_type": "stream",
     "text": [
      "['16', '7f', 'difference', '13', 'cba']\n"
     ]
    }
   ],
   "source": [
    "for i in A:\n",
    "    if not (i in B):\n",
    "        C.append(i)\n",
    "for i in B:\n",
    "    if not (i in A):\n",
    "        C.append(i)\n",
    "print(C)"
   ]
  },
  {
   "cell_type": "code",
   "execution_count": null,
   "metadata": {},
   "outputs": [],
   "source": []
  }
 ],
 "metadata": {
  "kernelspec": {
   "display_name": "Python 3",
   "language": "python",
   "name": "python3"
  },
  "language_info": {
   "codemirror_mode": {
    "name": "ipython",
    "version": 3
   },
   "file_extension": ".py",
   "mimetype": "text/x-python",
   "name": "python",
   "nbconvert_exporter": "python",
   "pygments_lexer": "ipython3",
   "version": "3.7.4"
  }
 },
 "nbformat": 4,
 "nbformat_minor": 2
}
