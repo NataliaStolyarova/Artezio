{
 "cells": [
  {
   "cell_type": "code",
   "execution_count": 1,
   "metadata": {},
   "outputs": [
    {
     "name": "stdout",
     "output_type": "stream",
     "text": [
      "h: 1\n",
      "a: 1\n",
      "r: 3\n",
      "y: 1\n",
      " : 1\n",
      "p: 1\n",
      "o: 1\n",
      "t: 2\n",
      "e: 1\n"
     ]
    }
   ],
   "source": [
    "my_string = [\"harry potter\"]\n",
    "l = []\n",
    " \n",
    "for i in my_string:\n",
    "  for s in i:\n",
    "    if s not in l:\n",
    "      print(s + ': ' + str(i.count(s)))\n",
    "      l.append(s)"
   ]
  },
  {
   "cell_type": "code",
   "execution_count": null,
   "metadata": {},
   "outputs": [],
   "source": []
  }
 ],
 "metadata": {
  "kernelspec": {
   "display_name": "Python 3",
   "language": "python",
   "name": "python3"
  },
  "language_info": {
   "codemirror_mode": {
    "name": "ipython",
    "version": 3
   },
   "file_extension": ".py",
   "mimetype": "text/x-python",
   "name": "python",
   "nbconvert_exporter": "python",
   "pygments_lexer": "ipython3",
   "version": "3.7.4"
  }
 },
 "nbformat": 4,
 "nbformat_minor": 2
}
